{
 "cells": [
  {
   "cell_type": "code",
   "execution_count": 11,
   "id": "78d25c09-610a-4a8a-b147-b108551633ae",
   "metadata": {},
   "outputs": [
    {
     "name": "stdout",
     "output_type": "stream",
     "text": [
      "The autoreload extension is already loaded. To reload it, use:\n",
      "  %reload_ext autoreload\n"
     ]
    }
   ],
   "source": [
    "import matplotlib\n",
    "from tqdm import tqdm\n",
    "import sys\n",
    "sys.path.append('..')\n",
    "from scipy import signal, stats, io\n",
    "from ipywidgets import HBox, VBox\n",
    "import ipywidgets as widgets\n",
    "from neurolib.models.wc import WCModel\n",
    "from task_fc_simulation.onset_design_model import WCOnsetDesign, HRF\n",
    "from task_fc_simulation.read_utils import read_onsets_from_input\n",
    "import numpy as np\n",
    "from tqdm import tqdm\n",
    "import matplotlib.pyplot as plt\n",
    "matplotlib.rcParams['font.size'] = 12\n",
    "plt.rcParams['image.cmap'] = 'plasma'\n",
    "np.set_printoptions(suppress=True)\n",
    "import warnings\n",
    "warnings.simplefilter(action='ignore', category=FutureWarning)\n",
    "%load_ext autoreload\n",
    "%autoreload 2"
   ]
  },
  {
   "cell_type": "markdown",
   "id": "b301cd29-bd2f-4f55-a486-12b7720ce861",
   "metadata": {},
   "source": [
    "# Bold simulation with  using the Balloon-Windkessel model\n",
    "\n",
    "\n",
    "The Balloon-Windkessel model assumes that the BOLD signal is a static nonlinear function of the normalized total deoxyhemoglobin voxel content, normalized venous volume, resting net oxygen extraction fraction by the capillary bed, and resting blood volume fraction. \n",
    "\n",
    "The BOLD signal [(Friston et all, 2003)](https://doi.org/10.1016/S1053-8119(03)00202-7) is taken to be a static nonlinear function of volume and deoxyhemoglobin\n",
    "that comprises a volume-weighted sum of extra- and intravascular signals. For the $i_{th}$ region, neuronal activity $Z_i$ causes an increase in a vasodilatory signal $X_i$ that is subject to autoregulatory\n",
    "feedback. Inflow $F_i$ responds in proportion to this\n",
    "signal with concomitant changes in blood volume $V_i$ and\n",
    "deoxyhemoglobin content $Q_i$\n",
    "\n",
    "$$ \\frac{d(X_i)}{dt} = Z_i-k*X_i-\\gamma_i(F_i-1) \\\\\n",
    "\\frac{d(F_i)}{dt}  = X_i \\\\\n",
    "\\tau \\frac{d(V_i)}{dt} = F_i-V_i^{1/\\alpha} \\\\\n",
    "\\tau\\frac{d(Q_i)}{dt} = F_i*(1-(1-\\rho)^{1/F_i})/\\rho_i - V_i^{1/\\alpha-1}Q_i$$\n",
    "\n",
    "$$y_i =V_0*(k_1(1-Q_i)+k_2(1-\\frac{Q_i}{V_i}+k_3*(1-V_i))) $$\n",
    "\n",
    "| Parameter | Description                        | Prior mean   | Prior variance |\n",
    "|-----------|------------------------------------|--------------|----------------|\n",
    "| k         | rate of signal decay               | 0.65 per sec | 0.015          |\n",
    "| gamma     | rate of flow dependant elimination | 0.41 per sec | 0.002          |\n",
    "| tau       | Hemodynamic transit time           | 0.98 s       | 0.0568         |\n",
    "| alpha     | Grubb's exponent                   | 0.32         | 0.0015         |\n",
    "| rho       | Resting oxygen extraction fraction | 0.34         | 0.0024         |\n",
    "| V_0       | Resting blood volume fraction      | 0.02         |                |\n",
    "| k1        |                                    | 7*rho        |                |\n",
    "| k2        |                                    | 2            |                |\n",
    "| k3        |                                    | 2*rho-0.2    |                |"
   ]
  },
  {
   "cell_type": "markdown",
   "id": "3f8722a5-95e7-4c50-be9d-4f7cb42adf01",
   "metadata": {},
   "source": [
    "## Balloon-Windkessel model parameter setting"
   ]
  },
  {
   "cell_type": "code",
   "execution_count": 12,
   "id": "bcdf8232-ae80-4428-8317-20203246251c",
   "metadata": {},
   "outputs": [],
   "source": [
    "gamma = widgets.FloatSlider(min=0, max=2, step = 0.01, description='gamma', value=0.41, layout=widgets.Layout(width='80%'), \n",
    "                              style={'description_width': 'initial'})\n",
    "k = widgets.FloatSlider(min=0, max=2, step = 0.01, description='k', value=0.65, layout=widgets.Layout(width='80%'), \n",
    "                              style={'description_width': 'initial'})\n",
    "rho = widgets.FloatSlider(min=0, max=0.98,step = 0.01, description='rho', value=0.34, layout=widgets.Layout(width='80%'), \n",
    "                              style={'description_width': 'initial'})\n",
    "alpha = widgets.FloatSlider(min=0, max=2, step = 0.01, description='alpha', value=0.32, layout=widgets.Layout(width='80%'), \n",
    "                              style={'description_width': 'initial'})\n",
    "V0 = widgets.FloatSlider(min=0, max=0.5, step = 0.005, description='V0', value=0.02, layout=widgets.Layout(width='80%'), \n",
    "                              style={'description_width': 'initial'})\n",
    "tau = widgets.FloatSlider(min=0, max=2, step = 0.01, description='tau', value=0.98, layout=widgets.Layout(width='80%'), \n",
    "                              style={'description_width': 'initial'})\n",
    "k1_mul = widgets.FloatSlider(min=3, max=10, step = 0.1, description='k1_mul', value=7, layout=widgets.Layout(width='80%'), \n",
    "                              style={'description_width': 'initial'})\n",
    "k2 = widgets.FloatSlider(min=0, max=5, step = 0.1, description='k2', value=2, layout=widgets.Layout(width='80%'), \n",
    "                              style={'description_width': 'initial'})\n",
    "\n",
    "row1 = HBox([k, gamma])\n",
    "row2 = HBox([rho, alpha])\n",
    "row3 = HBox([V0, tau])\n",
    "row4 = HBox([k1_mul, k2])\n",
    "\n",
    "ui = VBox( [row1, row2, row3, row4] )\n"
   ]
  },
  {
   "cell_type": "markdown",
   "id": "f22ee26b-90d2-4045-864c-69a32503cdc6",
   "metadata": {},
   "source": [
    "## Convolution with zero signal"
   ]
  },
  {
   "cell_type": "code",
   "execution_count": 15,
   "id": "de8fa495-1adb-4fda-9ae6-6d989aaa0ef4",
   "metadata": {},
   "outputs": [
    {
     "name": "stdout",
     "output_type": "stream",
     "text": [
      "Maximum achived at 0.0 second\n"
     ]
    },
    {
     "data": {
      "image/png": "[encoded data removed]",
      "text/plain": [
       "<Figure size 432x288 with 1 Axes>"
      ]
     },
     "metadata": {
      "needs_background": "light"
     },
     "output_type": "display_data"
    }
   ],
   "source": [
    "bw_params = {\"rho\": rho.value, \"alpha\": alpha.value, \"V0\": V0.value, \"k1_mul\": k1_mul.value,\n",
    "                     \"k2\": k2.value, \"k3_mul\": None, \"gamma\": gamma.value, \"k\": k.value, \"tau\":tau.value}\n",
    "TR=0.1\n",
    "dt = 10\n",
    "local_activations = np.zeros((1,2500))\n",
    "hrf = HRF(1, dt=dt, TR=TR, normalize_max=0.5)\n",
    "\n",
    "hrf.bw_convolve(local_activations, append=False, **bw_params)\n",
    "plt.plot(hrf.BOLD[0])\n",
    "print(f\"Maximum achived at {np.argmax(hrf.BOLD[0])*TR} second\")"
   ]
  },
  {
   "cell_type": "markdown",
   "id": "90b500b8-265b-4d7e-8116-f8c1cebd971c",
   "metadata": {},
   "source": [
    "## Convolution of simple task design\n",
    "\n",
    "Input parameters:\n",
    " - N (int): Number of nodes (for each node could be node specific design) \n",
    " - onsets (list of list of int or list): onset list for each region, for example [10, 12, 15], N lists\n",
    " - duration (float or list of lists): duration of each task (in seconds)\n",
    " - last_rest (float): duration of the last rest part, in seconds\n",
    " - dt (float): sampling rate for activations, in ms (!!!)\n",
    " - TR (float): sampling rate for BOLD (in seconds)(!!!)\n",
    " - normalize_max(float): scaling factor for activation, multiplied before convolution with bold \n",
    " \n",
    "### Toy example for two nodes  "
   ]
  },
  {
   "cell_type": "code",
   "execution_count": 16,
   "id": "ef6eeb85-58c7-4fef-be76-cf699e2691c7",
   "metadata": {},
   "outputs": [
    {
     "data": {
      "application/vnd.jupyter.widget-view+json": {
       "model_id": "75427df6871d440e85a6f2b4a17f35a7",
       "version_major": 2,
       "version_minor": 0
      },
      "text/plain": [
       "VBox(children=(HBox(children=(FloatSlider(value=0.65, description='k', layout=Layout(width='80%'), max=2.0, st…"
      ]
     },
     "metadata": {},
     "output_type": "display_data"
    },
    {
     "data": {
      "application/vnd.jupyter.widget-view+json": {
       "model_id": "6dc9757a45124d1fafb58ea57eed72c2",
       "version_major": 2,
       "version_minor": 0
      },
      "text/plain": [
       "Output()"
      ]
     },
     "metadata": {},
     "output_type": "display_data"
    }
   ],
   "source": [
    "N=2\n",
    "TR=0.5\n",
    "dt=10\n",
    "\n",
    "def draw_toy_bold_activation(**bw_param_dict):\n",
    "    first_rest = 6\n",
    "    onsets = [[5, 14, 25], [10, 20]]\n",
    "    hrf = HRF(N, dt=dt, TR=TR, normalize_max=0.5)\n",
    "    local_activation = hrf.create_task_design_activation(onsets, duration=2,\n",
    "                                                             first_rest=first_rest, last_rest=5)\n",
    "    hrf.bw_convolve(local_activation, append=False, **bw_param_dict)\n",
    "    t_res_activ, res_activ = hrf.resample_to_TR(local_activation)\n",
    "\n",
    "    fig, axs = plt.subplots(1, 2, figsize = (15,4))\n",
    "    axs[0].plot(t_res_activ/1e3,0.03*res_activ[0,:]);\n",
    "    axs[0].plot(t_res_activ/1e3, hrf.BOLD[0]); axs[0].set_title(\"Bold and resampled activation for first node\");\n",
    "    axs[0].set_xlabel(\"Time in sec\")\n",
    "    axs[1].plot(t_res_activ/1e3,0.03*res_activ[1,:]);\n",
    "    axs[1].plot(t_res_activ/1e3, hrf.BOLD[1]); axs[1].set_title(\"Bold and resampled activation for second node\");\n",
    "    axs[1].set_xlabel(\"Time in sec\")\n",
    "\n",
    "\n",
    "ui = VBox( [row1, row2, row3, row4] )\n",
    "bw_param_dict = {\"rho\": rho, \"alpha\": alpha, \"V0\": V0, \"k1_mul\": k1_mul,\n",
    "                     \"k2\": k2, \"gamma\": gamma, \"k\": k, \"tau\":tau}\n",
    "out = widgets.interactive_output(draw_toy_bold_activation, bw_param_dict)\n",
    "display(ui, out)    "
   ]
  },
  {
   "cell_type": "markdown",
   "id": "c021986c-3676-4fbf-91d6-f80da05f7c30",
   "metadata": {},
   "source": [
    "## Example with the real onsets\n",
    "\n",
    " - realization additive local activity TaskDesign*HRF"
   ]
  },
  {
   "cell_type": "code",
   "execution_count": 5,
   "id": "64e48b14-2678-4108-9376-ae59aa48dd96",
   "metadata": {},
   "outputs": [
    {
     "name": "stdout",
     "output_type": "stream",
     "text": [
      "dict_keys(['__header__', '__version__', '__globals__', 'activations', 'durations', 'names', 'onsets', 'rest_matrix', 'task_matrices'])\n",
      "Additional activation:  [[array([[1, 1, 0]], dtype=uint8) array([[0, 1, 1]], dtype=uint8)]]\n"
     ]
    }
   ],
   "source": [
    "mat_path = '../data/SOTs_1.5s_duration.mat'\n",
    "input_data = io.loadmat(mat_path)\n",
    "print(input_data.keys())\n",
    "print(\"Additional activation: \",input_data[\"activations\"])"
   ]
  },
  {
   "cell_type": "markdown",
   "id": "c35dccc3-0b99-4573-89b6-719f45b41ced",
   "metadata": {},
   "source": [
    "Here we have next additional local activation:\n",
    " - for first block: taskA\n",
    " - for second block: taskB+taskA\n",
    " - for third block: taskB\n",
    "\n",
    "so we need to create onset list for all these blocks"
   ]
  },
  {
   "cell_type": "code",
   "execution_count": 6,
   "id": "0d8dc7ca-aec2-4bab-9fcf-0d6d390529d6",
   "metadata": {},
   "outputs": [
    {
     "data": {
      "image/png": "[encoded data removed]",
      "text/plain": [
       "<Figure size 1080x288 with 3 Axes>"
      ]
     },
     "metadata": {
      "needs_background": "light"
     },
     "output_type": "display_data"
    }
   ],
   "source": [
    "N=30\n",
    "onset_taskA = list(input_data['onsets'][0, 0].squeeze().round(2))\n",
    "onset_taskB = list(input_data['onsets'][0, 1].squeeze().round(2))\n",
    "onset_taskAB,_,_ = read_onsets_from_input(mat_path)\n",
    "onset_taskAB = list(onset_taskAB)\n",
    "onsets = [onset_taskA]*(N//3)+[onset_taskAB]*(N//3)+[onset_taskB]*(N//3)\n",
    "first_rest = 6\n",
    "activity_scaling = 0.5\n",
    "TR=1\n",
    "dt=10\n",
    "task_duration = float(input_data[\"durations\"][0,0].squeeze())\n",
    "step = int(TR*1e3//dt)\n",
    "hrf = HRF(N, dt=dt, TR=TR, normalize_max=50)\n",
    "\n",
    "local_activation = hrf.create_task_design_activation(onsets, duration=task_duration,\n",
    "                                                          first_rest=first_rest, last_rest=6)\n",
    "fig, axs = plt.subplots(1, 3, figsize = (15,4))\n",
    "axs[0].plot(local_activation[0, :10000:10]); axs[0].set_title(\"Design for first block\");\n",
    "axs[1].plot(local_activation[10,:10000:10]); axs[1].set_title(\"Design for second block\");\n",
    "axs[2].plot(local_activation[20,:10000:10]); axs[2].set_title(\"Design for third block\");"
   ]
  },
  {
   "cell_type": "markdown",
   "id": "8dd8d402-060b-4814-9b79-0a68dcded664",
   "metadata": {},
   "source": [
    "## Set up parameters for BW\n",
    "\n",
    "You need to choose with the widgets"
   ]
  },
  {
   "cell_type": "code",
   "execution_count": 7,
   "id": "1d4888de-c362-4f4a-ba90-2342d6fa2a65",
   "metadata": {},
   "outputs": [
    {
     "data": {
      "application/vnd.jupyter.widget-view+json": {
       "model_id": "e87035ed95a9400cb9e57740393fb3d7",
       "version_major": 2,
       "version_minor": 0
      },
      "text/plain": [
       "VBox(children=(HBox(children=(FloatSlider(value=0.65, description='k', layout=Layout(width='80%'), max=2.0, st…"
      ]
     },
     "metadata": {},
     "output_type": "display_data"
    }
   ],
   "source": [
    "display(ui)   "
   ]
  },
  {
   "cell_type": "code",
   "execution_count": 8,
   "id": "6a66d263-279c-4ca4-9388-e7d67d96a209",
   "metadata": {},
   "outputs": [
    {
     "name": "stdout",
     "output_type": "stream",
     "text": [
      "The next parameters will be used for BOLD {'rho': 0.34, 'alpha': 0.32, 'V0': 0.02, 'k1_mul': 7.0, 'k2': 2.0, 'gamma': 0.41, 'k': 0.65, 'tau': 0.98}\n"
     ]
    }
   ],
   "source": [
    "bw_params ={\"rho\": rho.value, \"alpha\": alpha.value, \"V0\": V0.value, \"k1_mul\": k1_mul.value,\n",
    "                     \"k2\": k2.value, \"gamma\": gamma.value, \"k\": k.value, \"tau\":tau.value}\n",
    "print(f\"The next parameters will be used for BOLD {bw_params}\")"
   ]
  },
  {
   "cell_type": "code",
   "execution_count": 9,
   "id": "4f5a7bc5-86e0-459c-bd06-2b152d2b6626",
   "metadata": {},
   "outputs": [
    {
     "data": {
      "text/plain": [
       "array([], shape=(1, 0), dtype=float32)"
      ]
     },
     "execution_count": 9,
     "metadata": {},
     "output_type": "execute_result"
    }
   ],
   "source": [
    "hrf.BOLD"
   ]
  },
  {
   "cell_type": "code",
   "execution_count": 10,
   "id": "3b6e5c20-6ccf-4d86-bae1-aa0f7f9c359b",
   "metadata": {},
   "outputs": [
    {
     "data": {
      "application/vnd.jupyter.widget-view+json": {
       "model_id": "e6cd65b0662344c1a66056fa3771283e",
       "version_major": 2,
       "version_minor": 0
      },
      "text/plain": [
       "HBox(children=(FloatSlider(value=1.0, description='TR', max=2.0, min=0.1), FloatSlider(value=50.0, description…"
      ]
     },
     "metadata": {},
     "output_type": "display_data"
    },
    {
     "data": {
      "application/vnd.jupyter.widget-view+json": {
       "model_id": "b286e24e6dd147aea5680c9e29d94464",
       "version_major": 2,
       "version_minor": 0
      },
      "text/plain": [
       "Output()"
      ]
     },
     "metadata": {},
     "output_type": "display_data"
    }
   ],
   "source": [
    "N=30\n",
    "onset_taskA = list(input_data['onsets'][0, 0].squeeze().round(2))\n",
    "onset_taskB = list(input_data['onsets'][0, 1].squeeze().round(2))\n",
    "onset_taskAB,_,_ = read_onsets_from_input(mat_path)\n",
    "onset_taskAB = list(onset_taskAB)\n",
    "onsets = [onset_taskA]*(N//3)+[onset_taskAB]*(N//3)+[onset_taskB]*(N//3)\n",
    "first_rest = 6\n",
    "activity_scaling = 0.5\n",
    "TR=1\n",
    "dt=10\n",
    "\n",
    "def draw_bold_responce_design(TR=1, draw_last = 50, act_scaling = activity_scaling):\n",
    "    hrf = HRF(N, dt=dt, TR=TR, normalize_max=act_scaling )\n",
    "    local_activation = hrf.create_task_design_activation(onsets, duration=task_duration,\n",
    "                                                          first_rest=first_rest, last_rest=6)\n",
    "    hrf.bw_convolve(local_activation, append=False, **bw_params)\n",
    "    t_res_activ, res_activ = hrf.resample_to_TR(local_activation)\n",
    "    fig, axs = plt.subplots(1, 3, figsize = (15,4))\n",
    "    node_ids = [0,10,20]\n",
    "\n",
    "    draw_last_TR = int(draw_last/TR) #in seconds\n",
    "    for i in range(3):\n",
    "        \n",
    "        axs[i].plot(t_res_activ[-draw_last_TR:]/1e3, 0.03*res_activ[node_ids[i],-draw_last_TR:]);\n",
    "        axs[i].plot(t_res_activ[-draw_last_TR:]/1e3, hrf.BOLD[node_ids[i],-draw_last_TR:]); axs[i].set_title(f\"Bold and resampled act for {node_ids[i]} node\");\n",
    "\n",
    "TR = widgets.FloatSlider(value = 1, min = 0.1, max = 2, step = 0.1, description = \"TR\")\n",
    "draw_last = widgets.FloatSlider(value = 50, min = 1, max = 1000, step = 1, description = \"ShowLast(s)\")\n",
    "act_scaling = widgets.FloatSlider(value = activity_scaling, min = 0.1, max = 1, step = 0.1, description = \"ScAct\")\n",
    "row= HBox([TR, draw_last, act_scaling])        \n",
    "out = widgets.interactive_output(draw_bold_responce_design, {\"TR\": TR, \"draw_last\": draw_last, \"act_scaling\": act_scaling})\n",
    "display(row, out)          \n"
   ]
  },
  {
   "cell_type": "code",
   "execution_count": null,
   "id": "b7e2861e-b7d3-47e5-b5dc-a5464d61d931",
   "metadata": {},
   "outputs": [],
   "source": []
  }
 ],
 "metadata": {
  "kernelspec": {
   "display_name": "Python [conda env:neurolib_37]",
   "language": "python",
   "name": "conda-env-neurolib_37-py"
  },
  "language_info": {
   "codemirror_mode": {
    "name": "ipython",
    "version": 3
   },
   "file_extension": ".py",
   "mimetype": "text/x-python",
   "name": "python",
   "nbconvert_exporter": "python",
   "pygments_lexer": "ipython3",
   "version": "3.7.11"
  }
 },
 "nbformat": 4,
 "nbformat_minor": 5
}
